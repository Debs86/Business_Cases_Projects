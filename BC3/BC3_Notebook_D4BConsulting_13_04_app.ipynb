{
 "cells": [
  {
   "cell_type": "markdown",
   "metadata": {},
   "source": [
    "# Business Case #3 - Market Basket Analysis"
   ]
  },
  {
   "cell_type": "markdown",
   "metadata": {},
   "source": [
    "## Authors:\n",
    "#### Débora Santos (m20200748), Diana Furtado (m20200590),Pedro Henrique Medeiros (m20200742), Rebeca Pinheiro (m20201096)\n",
    "\n",
    "#### Group D - D4B Consulting"
   ]
  },
  {
   "cell_type": "markdown",
   "metadata": {},
   "source": [
    "### Installing and import packages\n",
    "\n",
    "Maybe it will be necessary install some 'special' packages to this notebook works. \n",
    "\n",
    "Please follow the next cells and check if it's necessary"
   ]
  },
  {
   "cell_type": "code",
   "execution_count": 1,
   "metadata": {},
   "outputs": [],
   "source": [
    "#Install package mlxtend\n",
    "#!pip install mlxtend"
   ]
  },
  {
   "cell_type": "code",
   "execution_count": 2,
   "metadata": {},
   "outputs": [],
   "source": [
    "# Import packages\n",
    "import pandas as pd\n",
    "import numpy as np\n",
    "import datetime as dt\n",
    "from mlxtend.frequent_patterns import apriori\n",
    "from mlxtend.frequent_patterns import association_rules\n",
    "import matplotlib.pyplot as plt\n",
    "import networkx as nx\n",
    "import seaborn as sns\n",
    "import plotly.io as pio\n",
    "pio.renderers\n",
    "import plotly.graph_objects as go\n",
    "import dash\n",
    "import dash_bootstrap_components as dbc\n",
    "import dash_core_components as dcc\n",
    "import dash_html_components as html\n",
    "import dash_table\n",
    "from dash.dependencies import Input, Output\n",
    "import plotly.express as px"
   ]
  },
  {
   "cell_type": "markdown",
   "metadata": {},
   "source": [
    "### Collect initial data"
   ]
  },
  {
   "cell_type": "code",
   "execution_count": 3,
   "metadata": {},
   "outputs": [],
   "source": [
    "#import dataset\n",
    "orders = pd.read_csv('orders.csv',sep=\",\")\n",
    "orders_prod = pd.read_csv('order_products.csv',sep=\",\")\n",
    "departments = pd.read_csv('departments.csv',sep=\",\")\n",
    "products = pd.read_csv('products.csv',sep=\",\")\n",
    "pd.set_option('display.max_rows', 500)\n",
    "pd.set_option('display.max_columns', 500)\n",
    "pd.set_option('display.width', 1000)"
   ]
  },
  {
   "cell_type": "markdown",
   "metadata": {},
   "source": [
    "### Creating the dataframes to plot the customers' behaviors"
   ]
  },
  {
   "cell_type": "code",
   "execution_count": 4,
   "metadata": {},
   "outputs": [],
   "source": [
    "#Create a function to return the number of orders by day of week or per hour of the day to be use in the app\n",
    "def frequent_time(option):\n",
    "    df = orders\n",
    "    if option == \"Day of week\":\n",
    "        freq = df['order_dow'].value_counts()\n",
    "    elif option == 'Hour of the day':\n",
    "        freq = df['order_hour_of_day'].value_counts()\n",
    "    return freq"
   ]
  },
  {
   "cell_type": "code",
   "execution_count": 5,
   "metadata": {},
   "outputs": [],
   "source": [
    "#Create the dataframe grouped by days since prior order\n",
    "prior_orders = orders['days_since_prior_order'].value_counts()"
   ]
  },
  {
   "cell_type": "code",
   "execution_count": 6,
   "metadata": {},
   "outputs": [],
   "source": [
    "#Create a dataframe to plot the basket size in the dash\n",
    "#Create the dataframe grouped by number of itens add to cart\n",
    "avg_basket = orders_prod.groupby(\"order_id\")['add_to_cart_order'].agg(['count'])\n",
    "#Rename the column\n",
    "avg_basket = avg_basket.rename({\"count\":\"basket_size\"}, axis=1)\n",
    "#Reset the index the column\n",
    "avg_basket.reset_index(inplace = True)\n",
    "#Create the dataframe grouped by number of itens add to cart\n",
    "avg_basket= avg_basket.groupby('basket_size')[\"order_id\"].agg(['count'])\n",
    "#Rename the column\n",
    "avg_basket = avg_basket.rename({\"count\":\"number_of_orders\"}, axis=1)\n",
    "#Reset the index the column\n",
    "avg_basket.reset_index(inplace = True)\n",
    "#Sort by number of orders according with the basket size.\n",
    "avg_basket.sort_values(by='number_of_orders', ascending=False, inplace=True)\n",
    "#Filter the 25 basket sizes that most appear. \n",
    "avg_basket_top25 = avg_basket[0:25]"
   ]
  },
  {
   "cell_type": "markdown",
   "metadata": {},
   "source": [
    "### Creating the dataframes to plot the Products and departments most consumed"
   ]
  },
  {
   "cell_type": "code",
   "execution_count": 7,
   "metadata": {},
   "outputs": [],
   "source": [
    "#Create a dataframe to merge the datasets by product and department\n",
    "df = pd.merge(orders_prod, products, how='left', on='product_id')\n",
    "df = pd.merge(df, departments, how='left', on='department_id')"
   ]
  },
  {
   "cell_type": "code",
   "execution_count": 8,
   "metadata": {},
   "outputs": [],
   "source": [
    "#Products more frequent by itens sold\n",
    "prod_freq = df['product_name'].value_counts()"
   ]
  },
  {
   "cell_type": "code",
   "execution_count": 9,
   "metadata": {},
   "outputs": [],
   "source": [
    "# Create dataframe to plot the number of orders by products\n",
    "\n",
    "#Drop the columns not useful\n",
    "df1 = df.drop([\"product_id\", \"department_id\", 'add_to_cart_order','reordered','department'], axis=1)\n",
    "#Pivot the data - lines as orders and products as columns\n",
    "df_pivot = pd.pivot_table(df1, index='order_id', columns='product_name', \n",
    "                    aggfunc=lambda x: 1 if len(x)>0 else 0).fillna(0)\n",
    "#Transpose the pivot\n",
    "df_pivot =df_pivot.T\n",
    "#Create a column to count number of orders that the product appears\n",
    "df_pivot['sum'] = df_pivot[df_pivot.columns].apply(lambda x: sum(x), axis = 1)\n",
    "#Sort by number of orders. \n",
    "df_pivot.sort_values(by='sum', ascending=False, inplace=True)"
   ]
  },
  {
   "cell_type": "code",
   "execution_count": 10,
   "metadata": {},
   "outputs": [],
   "source": [
    "#Departments more frequent by itens sold\n",
    "#Create a dataframe grouped by department\n",
    "grouped = df.groupby(\"department\")[\"order_id\"].agg(['count'])\n",
    "#Rename columsn\n",
    "grouped = grouped.rename({\"count\":\"Ordersitens_bydept\"}, axis=1)\n",
    "#Reset index\n",
    "grouped.reset_index(inplace = True)\n",
    "#Create a column with the % of participation of each department in total itens sold\n",
    "grouped['Ratio'] = grouped[\"Ordersitens_bydept\"].apply(lambda x: x /grouped['Ordersitens_bydept'].sum())\n",
    "#Sort by the departmens with more itens sold\n",
    "grouped.sort_values(by='Ordersitens_bydept', ascending=False, inplace=True)\n",
    "#Group some departments with low participation in one label callled others\n",
    "grouped['department'] = grouped['department'].replace(['personal care', 'babies', 'international','alcohol','pets', \n",
    "                                                       'missing','other','bulk'],\n",
    "                                                      'others')"
   ]
  },
  {
   "cell_type": "code",
   "execution_count": 11,
   "metadata": {},
   "outputs": [],
   "source": [
    "# Create dataframe to plot the number of orders by departments\n",
    "df2 = df.drop([\"product_id\", \"department_id\", 'add_to_cart_order','reordered','product_name'], axis=1)\n",
    "# Pivot the data - lines as orders and products as columns\n",
    "df_pivot_dept = pd.pivot_table(df2, index='order_id', columns='department', \n",
    "                    aggfunc=lambda x: 1 if len(x)>0 else 0).fillna(0)\n",
    "#Transpose the pivot\n",
    "df_pivot_dept =df_pivot_dept.T\n",
    "#Create a column to count number of orders that the department appears\n",
    "df_pivot_dept['sum'] = df_pivot_dept[df_pivot_dept.columns].apply(lambda x: sum(x), axis = 1)\n",
    "#Sort by number of orders. \n",
    "df_pivot_dept.sort_values(by='sum', ascending=False, inplace=True)"
   ]
  },
  {
   "cell_type": "raw",
   "metadata": {},
   "source": [
    "prod_reord = df.groupby(\"product_name\")[\"reordered\"].agg(['count','sum'])\n",
    "prod_reord = prod_reord.rename({\"count\":\"ordered_sum\"}, axis=1)\n",
    "prod_reord = prod_reord.rename({\"sum\":\"reordered_sum\"}, axis=1)\n",
    "prod_reord.reset_index(inplace = True)\n",
    "prod_reord['reorder_probability'] = (prod_reord[\"reordered_sum\"]/prod_reord['ordered_sum'])*100\n",
    "prod_reord.sort_values(by='reorder_probability', ascending=False, inplace=True)\n",
    "prod_reord_top30 = prod_reord[0:30]"
   ]
  },
  {
   "cell_type": "raw",
   "metadata": {},
   "source": [
    "#Plotly Visualization\n",
    "data_bar = (dict(type='bar',\n",
    "                     y = prod_reord_top30['reorder_probability'],\n",
    "                     x = prod_reord_top30['product_name'],\n",
    "                     marker_color='lightseagreen',\n",
    "                     showlegend=False\n",
    "                    )\n",
    "               )\n",
    "    \n",
    "layout_bar = dict(title=dict(\n",
    "                        text='Products most reordered'\n",
    "                        ),\n",
    "                  yaxis=dict(title='% Reorder Probability'),\n",
    "                  title_x=0.5,\n",
    "                  \n",
    "                 )\n",
    "fig_bar = go.Figure(data=data_bar, layout=layout_bar)\n",
    "\n",
    "fig_bar.show()"
   ]
  },
  {
   "cell_type": "markdown",
   "metadata": {},
   "source": [
    "### Creating the components"
   ]
  },
  {
   "cell_type": "code",
   "execution_count": 12,
   "metadata": {},
   "outputs": [],
   "source": [
    "#Create a  Plotly Visualization to show the days since prior order - Bar plot\n",
    "#Define the dataset to be used\n",
    "df = prior_orders\n",
    "#Define the data to plot\n",
    "data_bar = (dict(type='bar',\n",
    "                     x=df.index,\n",
    "                     y=df.values,\n",
    "                     marker_color='lightseagreen',\n",
    "                     showlegend=False))  \n",
    "#Define the layout\n",
    "layout_bar = dict(title=dict(\n",
    "                        text='Days since prior order'),\n",
    "                  xaxis=dict(title='Number of days'),\n",
    "                  yaxis=dict(title='Number of orders'),\n",
    "                  title_x=0.5)\n",
    "fig_bar = go.Figure(data=data_bar, layout=layout_bar)\n"
   ]
  },
  {
   "cell_type": "code",
   "execution_count": 13,
   "metadata": {},
   "outputs": [],
   "source": [
    "#Create a bar plot to show the basket size\n",
    "#define the data\n",
    "data = dict(type='bar',\n",
    "                  x=avg_basket_top25['basket_size'],\n",
    "                  y=avg_basket_top25['number_of_orders'],\n",
    "                  name='Basket Size'\n",
    "                  )\n",
    "#define the layout\n",
    "layout = dict(title=dict(text='Average Basket size'),\n",
    "                  xaxis=dict(title='Basket Size'),\n",
    "                  yaxis=dict(title='Number of orders')\n",
    "                  )\n",
    "#create the fig\n",
    "avgbasket_fig = go.Figure(data, layout)"
   ]
  },
  {
   "cell_type": "code",
   "execution_count": 14,
   "metadata": {},
   "outputs": [],
   "source": [
    "#Products plots\n",
    "#Plot number of itens sold by product - Treemap\n",
    "#Define the dataset\n",
    "df = prod_freq\n",
    "#Define the data\n",
    "treemap_trace = go.Treemap(labels=df.index[0:30], parents=[\"\"] * len(df.index), values=df.values[0:30])\n",
    "#Define the layout\n",
    "treemap_layout = go.Layout({\"margin\": dict(t=10, b=10, l=5, r=5, pad=4)} )\n",
    "#Create the figure\n",
    "treemap_figure = go.Figure(data=treemap_trace, layout=treemap_layout)"
   ]
  },
  {
   "cell_type": "code",
   "execution_count": 15,
   "metadata": {},
   "outputs": [],
   "source": [
    "#Plotly number of orders by product - Treemap\n",
    "#Define the dataset\n",
    "df = df_pivot\n",
    "#Define the data\n",
    "treemap_trace = go.Treemap(labels=df.index[0:16], parents=[\"\"] * len(df.index), values=df['sum'][0:16])\n",
    "#Define the layout\n",
    "treemap_layout = go.Layout({\"margin\": dict(t=10, b=10, l=5, r=5, pad=4)} )\n",
    "#Create the figure\n",
    "treemap_prod = go.Figure(data=treemap_trace, layout=treemap_layout)\n"
   ]
  },
  {
   "cell_type": "code",
   "execution_count": 16,
   "metadata": {},
   "outputs": [],
   "source": [
    "#Department plots\n",
    "#Plotly % of itens sold by department - Pie plot\n",
    "#Define the dataset\n",
    "df = grouped\n",
    "#Define the labels and the data\n",
    "department_labels = df['department']\n",
    "department_values = df['Ratio']\n",
    "department_data = dict(type='pie',labels=department_labels,\n",
    "                        values=department_values,)\n",
    "#Define the layout\n",
    "department_layout = dict(title=dict(text='Orders itens by department - % share'))\n",
    "#Create the figure\n",
    "department_fig = go.Figure(data= department_data, layout=department_layout)"
   ]
  },
  {
   "cell_type": "code",
   "execution_count": 17,
   "metadata": {},
   "outputs": [],
   "source": [
    "#Filter the  deparments that appears at least in 5% of orders\n",
    "#Plotly number of orders by deparment\n",
    "#Define the dataset\n",
    "df = df_pivot_dept\n",
    "#Define the data\n",
    "treemap_trace = go.Treemap(labels=df.index[0:16], parents=[\"\"] * len(df.index), values=df['sum'][0:16])\n",
    "#Define the layout\n",
    "treemap_layout = go.Layout({\"margin\": dict(t=10, b=10, l=5, r=5, pad=4)} )\n",
    "#Create the figure\n",
    "treemap_dept = go.Figure(data=treemap_trace, layout=treemap_layout)"
   ]
  },
  {
   "cell_type": "markdown",
   "metadata": {},
   "source": [
    "### Designing the dashboard"
   ]
  },
  {
   "cell_type": "markdown",
   "metadata": {},
   "source": [
    "#### Layout"
   ]
  },
  {
   "cell_type": "code",
   "execution_count": 18,
   "metadata": {},
   "outputs": [],
   "source": [
    "app = dash.Dash(__name__,external_stylesheets =[dbc.themes.BOOTSTRAP], suppress_callback_exceptions=True)\n",
    "server = app.server\n",
    "\n",
    "app.layout = html.Div([\n",
    "    html.Div([\n",
    "        dbc.Navbar(\n",
    "            dbc.Row([dbc.Col(dbc.NavbarBrand('INSTACART MARKET BASKET ANALYSIS', className=\"ml-2\"),\n",
    "                style={\"text-align\":\"center\"}),],),\n",
    "            color=\"LightBlue\",\n",
    "            dark=True,\n",
    "            sticky=\"top\",\n",
    "        ),\n",
    "             html.Br()\n",
    "    ]),\n",
    "    dcc.Tabs(id='tabs', value='tabStocks', persistence=False, children=[ \n",
    "        dcc.Tab(label='Consumer Behaviors', value='tabStocks', children=\n",
    "            html.Div([\n",
    "                html.Br([]),\n",
    "                html.Div([\n",
    "                    html.Div([\n",
    "                    dbc.CardHeader(html.H4('Number of orders by Period')),\n",
    "                    dbc.CardBody(\n",
    "                        children =[\n",
    "                        html.Div([html.Label('Choose an option:',style=dict(margin=\"10px\")),\n",
    "                        dcc.RadioItems(id='option',\n",
    "                                       options=[{'label': 'Day of week', 'value': 'Day of week'},\n",
    "                                                {'label': 'Hour of the day', 'value': 'Hour of the day'},],\n",
    "                                       value='Day of week', labelStyle={'display': 'inline-block',})\n",
    "                                 ], style=dict(display='flex', width = \"100%\")),\n",
    "                        dcc.Graph(id='bar_plot', style={\"height\": \"50%\", \"width\": \"100%\"})])\n",
    "                    ],style={\"width\": \"100%\"} ),\n",
    "                    html.Div(id='margin', style={\"width\": \"5%\"}),\n",
    "                    html.Div([\n",
    "                        dbc.CardHeader(html.H4('Days since prior order')),\n",
    "                        html.Br([]),\n",
    "                        html.Br([]),\n",
    "                        html.Div(dcc.Graph(id='prior_orders_plot', figure=fig_bar), style={\"height\": \"50%\", \"width\": \"95%\"}),],\n",
    "                        style={\"width\": \"100%\"})\n",
    "                ],style=dict(display='flex')),\n",
    "                \n",
    "                html.Br([]),\n",
    "                html.Div([dbc.CardHeader(html.H4('Basket Size')),\n",
    "                          html.Div(dcc.Graph(id='basket_plot',figure=avgbasket_fig), style={\"height\": \"50%\", \"width\": \"95%\"})],\n",
    "                                   style={\"width\": \"100%\"} ), #define the basket plot size - full or half screen\n",
    "            ])),\n",
    "            dcc.Tab(label='Products and Departmens Analysis', value='tabproducts',children=[\n",
    "            html.Br([]),\n",
    "            dbc.CardHeader(html.H4('Products participation')),\n",
    "            html.Div([\n",
    "                     html.Div(dcc.Graph(id='treemap_itens',figure=treemap_figure),style={\"width\":\"100%\"}),\n",
    "                     html.Div(style={\"width\":\"5%\"}),\n",
    "                     html.Div(dcc.Graph(id='treemap_orders', figure=treemap_prod),style={\"width\":\"100%\"})       \n",
    "                    ],style=dict(display=\"flex\",width=\"100%\")),\n",
    "            dbc.CardHeader(html.H4('Departments participation')),\n",
    "            html.Div([\n",
    "                      \n",
    "                      html.Div(dcc.Graph(id='pie_graphic', figure=department_fig ),style={\"width\":\"100%\"}),\n",
    "                      html.Div(style={\"width\":\"5%\"}),\n",
    "                      html.Div(dcc.Graph(id='treemap_dept', figure=treemap_dept),style={\"width\":\"100%\"})       \n",
    "                    ],style=dict(display=\"flex\",width=\"100%\")),])\n",
    "]),\n",
    "                   \n",
    "                    \n",
    "    ],style=dict(margin='1em'))"
   ]
  },
  {
   "cell_type": "markdown",
   "metadata": {},
   "source": [
    "### Callbacks"
   ]
  },
  {
   "cell_type": "code",
   "execution_count": 19,
   "metadata": {},
   "outputs": [],
   "source": [
    "#Plot Bar Transactions by period\n",
    "@app.callback(Output('bar_plot', 'figure'),\n",
    "            [Input('option', 'value')])\n",
    "def update_barplot(option):\n",
    "    data_bar = (dict(type='bar',\n",
    "                     x=frequent_time(option).index,\n",
    "                     y=frequent_time(option).values,\n",
    "                     marker_color=' cornflowerblue',\n",
    "                     showlegend=False))  \n",
    "    layout_bar = dict(title=dict(\n",
    "                        text=f'Frequency by {option}'),\n",
    "                  xaxis=dict(title=f'{option}'),\n",
    "                  yaxis=dict(title='Number of orders'),\n",
    "                  title_x=0.5)\n",
    "    fig_bar = go.Figure(data=data_bar, layout=layout_bar)\n",
    "    return fig_bar"
   ]
  },
  {
   "cell_type": "code",
   "execution_count": 20,
   "metadata": {},
   "outputs": [
    {
     "name": "stdout",
     "output_type": "stream",
     "text": [
      "Dash is running on http://127.0.0.1:8050/\n",
      "\n",
      " * Serving Flask app \"__main__\" (lazy loading)\n",
      " * Environment: production\n",
      "   WARNING: This is a development server. Do not use it in a production deployment.\n",
      "   Use a production WSGI server instead.\n",
      " * Debug mode: off\n"
     ]
    },
    {
     "name": "stderr",
     "output_type": "stream",
     "text": [
      " * Running on http://127.0.0.1:8050/ (Press CTRL+C to quit)\n",
      "127.0.0.1 - - [13/Apr/2021 22:27:37] \"\u001b[37mGET / HTTP/1.1\u001b[0m\" 200 -\n",
      "127.0.0.1 - - [13/Apr/2021 22:27:38] \"\u001b[37mGET /_dash-dependencies HTTP/1.1\u001b[0m\" 200 -\n",
      "127.0.0.1 - - [13/Apr/2021 22:27:38] \"\u001b[37mGET /_dash-layout HTTP/1.1\u001b[0m\" 200 -\n",
      "127.0.0.1 - - [13/Apr/2021 22:27:38] \"\u001b[37mPOST /_dash-update-component HTTP/1.1\u001b[0m\" 200 -\n",
      "127.0.0.1 - - [13/Apr/2021 22:27:46] \"\u001b[37mPOST /_dash-update-component HTTP/1.1\u001b[0m\" 200 -\n",
      "127.0.0.1 - - [13/Apr/2021 22:27:48] \"\u001b[37mPOST /_dash-update-component HTTP/1.1\u001b[0m\" 200 -\n"
     ]
    }
   ],
   "source": [
    "if __name__ == '__main__': app.run_server(debug=False)"
   ]
  },
  {
   "cell_type": "code",
   "execution_count": null,
   "metadata": {},
   "outputs": [],
   "source": []
  }
 ],
 "metadata": {
  "kernelspec": {
   "display_name": "Python 3",
   "language": "python",
   "name": "python3"
  },
  "language_info": {
   "codemirror_mode": {
    "name": "ipython",
    "version": 3
   },
   "file_extension": ".py",
   "mimetype": "text/x-python",
   "name": "python",
   "nbconvert_exporter": "python",
   "pygments_lexer": "ipython3",
   "version": "3.8.5"
  }
 },
 "nbformat": 4,
 "nbformat_minor": 4
}
