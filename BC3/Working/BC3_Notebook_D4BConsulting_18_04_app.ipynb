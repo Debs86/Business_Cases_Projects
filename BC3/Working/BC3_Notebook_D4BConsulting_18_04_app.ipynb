{
 "cells": [
  {
   "cell_type": "markdown",
   "metadata": {},
   "source": [
    "# Business Case #3 - Market Basket Analysis"
   ]
  },
  {
   "cell_type": "markdown",
   "metadata": {},
   "source": [
    "## Authors:\n",
    "#### Débora Santos (m20200748),Pedro Henrique Medeiros (m20200742), Rebeca Pinheiro (m20201096)\n",
    "\n",
    "#### Group D - D4B Consulting"
   ]
  },
  {
   "cell_type": "markdown",
   "metadata": {},
   "source": [
    "### Installing and import packages\n",
    "\n",
    "Maybe it will be necessary install some 'special' packages to this notebook works. \n",
    "\n",
    "Please follow the next cells and check if it's necessary"
   ]
  },
  {
   "cell_type": "code",
   "execution_count": 1,
   "metadata": {},
   "outputs": [],
   "source": [
    "#Install package mlxtend\n",
    "#!pip install mlxtend"
   ]
  },
  {
   "cell_type": "code",
   "execution_count": 2,
   "metadata": {},
   "outputs": [],
   "source": [
    "# Import packages\n",
    "import pandas as pd\n",
    "import numpy as np\n",
    "import datetime as dt\n",
    "from mlxtend.frequent_patterns import apriori\n",
    "from mlxtend.frequent_patterns import association_rules\n",
    "import matplotlib.pyplot as plt\n",
    "import networkx as nx\n",
    "import seaborn as sns\n",
    "import plotly.io as pio\n",
    "pio.renderers\n",
    "import plotly.graph_objects as go\n",
    "import dash\n",
    "import dash_bootstrap_components as dbc\n",
    "import dash_core_components as dcc\n",
    "import dash_html_components as html\n",
    "import dash_table\n",
    "from dash.dependencies import Input, Output\n",
    "import plotly.express as px"
   ]
  },
  {
   "cell_type": "markdown",
   "metadata": {},
   "source": [
    "### Collect initial data"
   ]
  },
  {
   "cell_type": "code",
   "execution_count": 3,
   "metadata": {},
   "outputs": [],
   "source": [
    "#import dataset\n",
    "path = 'https://raw.githubusercontent.com/Debs86/Business_Cases_Projects/master/BC3/'\n",
    "orders = pd.read_csv(path +'orders.csv',sep=\",\")\n",
    "orders_prod = pd.read_csv(path +'order_products.csv',sep=\",\")\n",
    "departments = pd.read_csv(path +'departments.csv',sep=\",\")\n",
    "products = pd.read_csv('products.csv',sep=\",\")\n",
    "pd.set_option('display.max_rows', 500)\n",
    "pd.set_option('display.max_columns', 500)\n",
    "pd.set_option('display.width', 1000)"
   ]
  },
  {
   "cell_type": "markdown",
   "metadata": {},
   "source": [
    "### Creating the dataframes to plot the customers' behaviors"
   ]
  },
  {
   "cell_type": "code",
   "execution_count": 4,
   "metadata": {},
   "outputs": [],
   "source": [
    "#Create a function to return the number of orders by day of week or per hour of the day to be use in the app\n",
    "def frequent_time(option):\n",
    "    df = orders\n",
    "    if option == \"Day of week\":\n",
    "        freq = df['order_dow'].value_counts()\n",
    "    elif option == 'Hour of the day':\n",
    "        freq = df['order_hour_of_day'].value_counts()\n",
    "    return freq"
   ]
  },
  {
   "cell_type": "code",
   "execution_count": 5,
   "metadata": {},
   "outputs": [],
   "source": [
    "#Create the dataframe grouped by days since prior order\n",
    "prior_orders = orders['days_since_prior_order'].value_counts()"
   ]
  },
  {
   "cell_type": "code",
   "execution_count": 6,
   "metadata": {},
   "outputs": [],
   "source": [
    "#Create a dataframe grouped by user id\n",
    "number_orders = orders['user_id'].value_counts()\n",
    "#Sort the values by the user with highest number of orders\n",
    "number_orders = number_orders.sort_values(ascending=False,axis=0)\n",
    "#Reset index\n",
    "number_orders = number_orders.reset_index()\n",
    "#Rename columns\n",
    "number_orders.rename(columns={'index': 'number_user'}, inplace = True)\n",
    "number_orders.rename(columns={'user_id': 'number_orders'}, inplace = True)\n",
    "#Group the dataframe by quantity of users according by number of orders placed\n",
    "number_orders= number_orders.groupby(\"number_orders\")['number_user'].agg(['count'])\n",
    "#Reset index\n",
    "number_orders = number_orders.reset_index()"
   ]
  },
  {
   "cell_type": "code",
   "execution_count": 7,
   "metadata": {},
   "outputs": [],
   "source": [
    "#Create a dataframe to plot the basket size in the dash\n",
    "#Create the dataframe grouped by number of itens add to cart\n",
    "avg_basket = orders_prod.groupby(\"order_id\")['add_to_cart_order'].agg(['count'])\n",
    "#Rename the column\n",
    "avg_basket = avg_basket.rename({\"count\":\"basket_size\"}, axis=1)\n",
    "#Reset the index the column\n",
    "avg_basket.reset_index(inplace = True)\n",
    "#Create the dataframe grouped by number of itens add to cart\n",
    "avg_basket= avg_basket.groupby('basket_size')[\"order_id\"].agg(['count'])\n",
    "#Rename the column\n",
    "avg_basket = avg_basket.rename({\"count\":\"number_of_orders\"}, axis=1)\n",
    "#Reset the index the column\n",
    "avg_basket.reset_index(inplace = True)\n",
    "#Sort by number of orders according with the basket size.\n",
    "avg_basket.sort_values(by='number_of_orders', ascending=False, inplace=True)\n",
    "#Filter the 25 basket sizes that most appear. \n",
    "avg_basket_top25 = avg_basket[0:25]"
   ]
  },
  {
   "cell_type": "markdown",
   "metadata": {},
   "source": [
    "### Creating the dataframes to plot the Products and departments most consumed"
   ]
  },
  {
   "cell_type": "code",
   "execution_count": 8,
   "metadata": {},
   "outputs": [],
   "source": [
    "#Create a dataframe to merge the datasets by product and department\n",
    "df_merge = pd.merge(orders_prod, products, how='left', on='product_id')\n",
    "df_merge = pd.merge(df_merge, departments, how='left', on='department_id')"
   ]
  },
  {
   "cell_type": "code",
   "execution_count": 9,
   "metadata": {},
   "outputs": [],
   "source": [
    "#Products more frequent by itens sold\n",
    "prod_freq = df_merge['product_name'].value_counts()"
   ]
  },
  {
   "cell_type": "code",
   "execution_count": 10,
   "metadata": {},
   "outputs": [],
   "source": [
    "# Create dataframe to plot the number of orders by products\n",
    "\n",
    "#Drop the columns not useful\n",
    "df1 = df_merge.drop([\"product_id\", \"department_id\", 'add_to_cart_order','reordered','department'], axis=1)\n",
    "#Pivot the data - lines as orders and products as columns\n",
    "df_pivot = pd.pivot_table(df1, index='order_id', columns='product_name', \n",
    "                    aggfunc=lambda x: 1 if len(x)>0 else 0).fillna(0)\n",
    "#Transpose the pivot\n",
    "df_pivot =df_pivot.T\n",
    "#Create a column to count number of orders that the product appears\n",
    "df_pivot['sum'] = df_pivot[df_pivot.columns].apply(lambda x: sum(x), axis = 1)\n",
    "#Sort by number of orders. \n",
    "df_pivot.sort_values(by='sum', ascending=False, inplace=True)"
   ]
  },
  {
   "cell_type": "code",
   "execution_count": 11,
   "metadata": {},
   "outputs": [],
   "source": [
    "#Departments more frequent by itens sold\n",
    "#Create a dataframe grouped by department\n",
    "grouped = df_merge.groupby(\"department\")[\"order_id\"].agg(['count'])\n",
    "#Rename columsn\n",
    "grouped = grouped.rename({\"count\":\"Ordersitens_bydept\"}, axis=1)\n",
    "#Reset index\n",
    "grouped.reset_index(inplace = True)\n",
    "#Create a column with the % of participation of each department in total itens sold\n",
    "grouped['Ratio'] = grouped[\"Ordersitens_bydept\"].apply(lambda x: x /grouped['Ordersitens_bydept'].sum())\n",
    "#Sort by the departmens with more itens sold\n",
    "grouped.sort_values(by='Ordersitens_bydept', ascending=False, inplace=True)\n",
    "#Group some departments with low participation in one label callled others\n",
    "grouped['department'] = grouped['department'].replace(['personal care', 'babies', 'international','alcohol','pets', \n",
    "                                                       'missing','other','bulk'],\n",
    "                                                      'others')"
   ]
  },
  {
   "cell_type": "code",
   "execution_count": 12,
   "metadata": {},
   "outputs": [],
   "source": [
    "# Create dataframe to plot the number of orders by departments\n",
    "df2 = df_merge.drop([\"product_id\", \"department_id\", 'add_to_cart_order','reordered','product_name'], axis=1)\n",
    "# Pivot the data - lines as orders and products as columns\n",
    "df_pivot_dept = pd.pivot_table(df2, index='order_id', columns='department', \n",
    "                    aggfunc=lambda x: 1 if len(x)>0 else 0).fillna(0)\n",
    "#Transpose the pivot\n",
    "df_pivot_dept =df_pivot_dept.T\n",
    "#Create a column to count number of orders that the department appears\n",
    "df_pivot_dept['sum'] = df_pivot_dept[df_pivot_dept.columns].apply(lambda x: sum(x), axis = 1)\n",
    "#Sort by number of orders. \n",
    "df_pivot_dept.sort_values(by='sum', ascending=False, inplace=True)"
   ]
  },
  {
   "cell_type": "code",
   "execution_count": 13,
   "metadata": {},
   "outputs": [],
   "source": [
    "#Create a dataframe groupped by reordered or not\n",
    "prod_reord = df_merge.groupby(\"product_name\")[\"reordered\"].agg(['count','sum'])\n",
    "#Rename the columns\n",
    "prod_reord = prod_reord.rename({\"count\":\"ordered_sum\"}, axis=1)\n",
    "prod_reord = prod_reord.rename({\"sum\":\"reordered_sum\"}, axis=1)\n",
    "#Reset index\n",
    "prod_reord.reset_index(inplace = True)\n",
    "#Create a new column to calculate the reordered probabibility (% of reordered)\n",
    "prod_reord['reorder_probability'] = (prod_reord[\"reordered_sum\"]/prod_reord['ordered_sum'])*100\n",
    "#Sort values to show the most reordered\n",
    "prod_reord.sort_values(by='reorder_probability', ascending=False, inplace=True)\n",
    "#filter only the 30 most reordered\n",
    "prod_reord_top30 = prod_reord[0:30]"
   ]
  },
  {
   "cell_type": "code",
   "execution_count": 14,
   "metadata": {},
   "outputs": [],
   "source": [
    "#Selected products\n",
    "#The products that appears in at least 10% of orders. Represent more than 50% of total itens sold. \n",
    "list1 = prod_freq.index[0:30]\n",
    "list2 = df_pivot.index[0:16]\n",
    "products =  []\n",
    "for variable in list1:\n",
    "    if variable in list2:\n",
    "        products.append(variable)"
   ]
  },
  {
   "cell_type": "code",
   "execution_count": 15,
   "metadata": {},
   "outputs": [],
   "source": [
    "#Create a dataframe to have products and dow, hour_of_day in the same dataframe\n",
    "df_merge2 = pd.merge(df_merge, orders, how='left', on='order_id')"
   ]
  },
  {
   "cell_type": "code",
   "execution_count": 16,
   "metadata": {},
   "outputs": [],
   "source": [
    "#Create a function to return the number of orders by day of week or per hour of the day by product\n",
    "def frequent_time_prod(product, option):\n",
    "    df = df_merge2[df_merge2['product_name']==product]\n",
    "    if option == \"Day of week\":\n",
    "        freq = df['order_dow'].value_counts()\n",
    "    elif option == 'Hour of the day':\n",
    "        freq = df['order_hour_of_day'].value_counts()\n",
    "    return freq"
   ]
  },
  {
   "cell_type": "markdown",
   "metadata": {},
   "source": [
    "### Heatmap for the complementary products"
   ]
  },
  {
   "cell_type": "code",
   "execution_count": 17,
   "metadata": {},
   "outputs": [],
   "source": [
    "# Import order product dataset\n",
    "df_ord_prod = pd.read_csv(path +'order_products.csv', usecols=['order_id', 'product_id'])\n",
    "\n",
    "# Import product label mapping\n",
    "df_prod = pd.read_csv(path +'products.csv')\n",
    "\n",
    "# Merge product labels\n",
    "df_ord_prod = pd.merge(df_ord_prod, df_prod, how='left', on='product_id').\\\n",
    "    drop([\"product_id\", \"department_id\"], axis=1)"
   ]
  },
  {
   "cell_type": "code",
   "execution_count": 18,
   "metadata": {},
   "outputs": [],
   "source": [
    "# Pivot the data - lines as orders and products as columns\n",
    "pt = pd.pivot_table(df_ord_prod, index='order_id', columns='product_name', \n",
    "                    aggfunc=lambda x: 1 if len(x)>0 else 0).fillna(0)"
   ]
  },
  {
   "cell_type": "code",
   "execution_count": 19,
   "metadata": {},
   "outputs": [],
   "source": [
    "# Create new support dataframe for two products only\n",
    "frequent_itemsets_two = apriori(pt, min_support=0.03, use_colnames=True,  max_len = 2)"
   ]
  },
  {
   "cell_type": "code",
   "execution_count": 20,
   "metadata": {},
   "outputs": [],
   "source": [
    "# Compute association rules for frequent_itemsets\n",
    "rulesConfidence_two = association_rules(frequent_itemsets_two, metric=\"confidence\", min_threshold=0.50)\n",
    "\n",
    "# High Confidence and high Lift - complementary products\n",
    "complementary_p = rulesConfidence_two[(rulesConfidence_two['lift'] > 1.3)].sort_values('lift', ascending=False)"
   ]
  },
  {
   "cell_type": "code",
   "execution_count": 21,
   "metadata": {},
   "outputs": [],
   "source": [
    "# Create column with the number of the left hand side items\n",
    "complementary_p['lhs items'] = complementary_p['antecedents'].apply(lambda x:len(x) )\n",
    "\n",
    "# Create column with the number of the right hand side items\n",
    "complementary_p['rhs items'] = complementary_p['consequents'].apply(lambda x:len(x) )\n",
    "\n",
    "# Replace frozen sets with strings\n",
    "complementary_p['antecedents_'] = complementary_p['antecedents'].apply(lambda a: ','.join(list(a)))\n",
    "complementary_p['consequents_'] = complementary_p['consequents'].apply(lambda a: ','.join(list(a)))\n",
    "\n",
    "# Transform the DataFrame of rules into a matrix using the lift metric\n",
    "pivot = complementary_p.pivot(index = 'consequents_', columns = 'antecedents_', values= 'lift')"
   ]
  },
  {
   "cell_type": "code",
   "execution_count": 22,
   "metadata": {},
   "outputs": [],
   "source": [
    "# divide the data\n",
    "consequents = pivot.index.tolist()\n",
    "antecedents = pivot.columns.tolist()\n",
    "matrix = pivot.to_numpy()\n",
    "#Define the data to plot\n",
    "data=go.Heatmap( x = antecedents, y = consequents, z = matrix, colorscale='YlOrRd')\n",
    "#Define layout\n",
    "layout = dict(title=dict(\n",
    "                        text=\"Complementary Products - Lift\"\n",
    "                        ),\n",
    "                  yaxis=dict(title=\"Consequents\"),\n",
    "                  xaxis=dict(title=\"Antecedents\"),\n",
    "                  title_x=0.5)\n",
    "# create figure\n",
    "fig_heatmap = go.Figure( data = data, layout = layout )\n"
   ]
  },
  {
   "cell_type": "markdown",
   "metadata": {},
   "source": [
    "### Creating the components"
   ]
  },
  {
   "cell_type": "code",
   "execution_count": 23,
   "metadata": {},
   "outputs": [],
   "source": [
    "#Create a  Plotly Visualization to show the days since prior order - Bar plot\n",
    "#Define the dataset to be used\n",
    "df = prior_orders\n",
    "#Define the data to plot\n",
    "data_bar = (dict(type='bar',\n",
    "                     x=df.index,\n",
    "                     y=df.values,\n",
    "                     marker_color='lightseagreen',\n",
    "                     showlegend=False))  \n",
    "#Define the layout\n",
    "layout_bar = dict(title=dict(\n",
    "                        text='Days since prior order'),\n",
    "                  xaxis=dict(title='Number of days'),\n",
    "                  yaxis=dict(title='Number of orders'),\n",
    "                  title_x=0.5)\n",
    "fig_bar = go.Figure(data=data_bar, layout=layout_bar)\n"
   ]
  },
  {
   "cell_type": "code",
   "execution_count": 24,
   "metadata": {},
   "outputs": [],
   "source": [
    "##Create a Plotly Visualization to be included in dashboard - Bar plot\n",
    "#Define the dataset to be used\n",
    "df = number_orders\n",
    "#Define the data to plot\n",
    "data = dict(type='scatter',\n",
    "                  x=df['number_orders'],\n",
    "                  y=df['count'],\n",
    "                  name='Quantity of users by quantity of orders'\n",
    "                  )\n",
    "#Define the layout\n",
    "layout = dict(title=dict(text='Quantity of orders'),\n",
    "                  xaxis=dict(title='Number of orders'),\n",
    "                  yaxis=dict(title='Quantity of users')\n",
    "                  )\n",
    "#Create the figure\n",
    "fig_users = go.Figure(data, layout)"
   ]
  },
  {
   "cell_type": "code",
   "execution_count": 25,
   "metadata": {},
   "outputs": [],
   "source": [
    "#Create a bar plot to show the basket size\n",
    "#define the data\n",
    "data = dict(type='bar',\n",
    "                  x=avg_basket_top25['basket_size'],\n",
    "                  y=avg_basket_top25['number_of_orders'],\n",
    "                  name='Basket Size'\n",
    "                  )\n",
    "#define the layout\n",
    "layout = dict(title=dict(text='Average Basket size'),\n",
    "                  xaxis=dict(title='Basket Size'),\n",
    "                  yaxis=dict(title='Number of orders')\n",
    "                  )\n",
    "#create the fig\n",
    "avgbasket_fig = go.Figure(data, layout)"
   ]
  },
  {
   "cell_type": "code",
   "execution_count": 26,
   "metadata": {},
   "outputs": [],
   "source": [
    "#Products plots\n",
    "#Plot number of itens sold by product - Treemap\n",
    "#Define the dataset\n",
    "df = prod_freq\n",
    "#Define the data\n",
    "treemap_trace = go.Treemap(labels=df.index[0:30], parents=[\"\"] * len(df.index), values=df.values[0:30])\n",
    "#Define the layout\n",
    "treemap_layout = go.Layout( {\"margin\": dict(t=35, b=10, l=5, r=5, pad=4)},title=dict(text='Itens sold by product') )\n",
    "#Create the figure\n",
    "treemap_figure = go.Figure(data=treemap_trace, layout=treemap_layout)"
   ]
  },
  {
   "cell_type": "code",
   "execution_count": 27,
   "metadata": {},
   "outputs": [],
   "source": [
    "#Plotly number of orders by product - Treemap\n",
    "#Define the dataset\n",
    "df = df_pivot\n",
    "#Define the data\n",
    "treemap_trace = go.Treemap(labels=df.index[0:16], parents=[\"\"] * len(df.index), values=df['sum'][0:16])\n",
    "#Define the layout\n",
    "treemap_layout = go.Layout({\"margin\": dict(t=35, b=10, l=5, r=5, pad=4)}, title=dict(text='Number of orders by product') )\n",
    "#Create the figure\n",
    "treemap_prod = go.Figure(data=treemap_trace, layout=treemap_layout)\n"
   ]
  },
  {
   "cell_type": "code",
   "execution_count": 28,
   "metadata": {},
   "outputs": [],
   "source": [
    "#Department plots\n",
    "#Plotly % of itens sold by department - Pie plot\n",
    "#Define the dataset\n",
    "df = grouped\n",
    "#Define the labels and the data\n",
    "department_labels = df['department']\n",
    "department_values = df['Ratio']\n",
    "department_data = dict(type='pie',labels=department_labels,\n",
    "                        values=department_values,)\n",
    "#Define the layout\n",
    "department_layout = dict(title=dict(text='Itens sold by department - % share'))\n",
    "#Create the figure\n",
    "department_fig = go.Figure(data= department_data, layout=department_layout)"
   ]
  },
  {
   "cell_type": "code",
   "execution_count": 29,
   "metadata": {},
   "outputs": [],
   "source": [
    "#Filter the  deparments that appears at least in 5% of orders\n",
    "#Plotly number of orders by deparment\n",
    "#Define the dataset\n",
    "df = df_pivot_dept\n",
    "#Define the data\n",
    "treemap_trace = go.Treemap(labels=df.index[0:16], parents=[\"\"] * len(df.index), values=df['sum'][0:16])\n",
    "#Define the layout\n",
    "treemap_layout = go.Layout({\"margin\": dict(t=30, b=10, l=5, r=5, pad=4)}, title=dict(text='Number of orders by department') )\n",
    "#Create the figure\n",
    "treemap_dept = go.Figure(data=treemap_trace, layout=treemap_layout)"
   ]
  },
  {
   "cell_type": "code",
   "execution_count": 30,
   "metadata": {},
   "outputs": [],
   "source": [
    "#Plotly Visualization - Bar plot\n",
    "#Define the data\n",
    "data_bar = (dict(type='bar',\n",
    "                     y = prod_reord_top30['reorder_probability'],\n",
    "                     x = prod_reord_top30['product_name'],\n",
    "                     marker_color='lightseagreen',\n",
    "                     showlegend=False\n",
    "                    )\n",
    "               )\n",
    "#Define the layout \n",
    "layout_bar = dict(title=dict(\n",
    "                        text='Products most reordered'\n",
    "                        ),\n",
    "                  yaxis=dict(title='% Reorder Probability'),\n",
    "                  title_x=0.5,\n",
    "                  \n",
    "                 )\n",
    "#Create the figure\n",
    "reordered_bar = go.Figure(data=data_bar, layout=layout_bar)"
   ]
  },
  {
   "cell_type": "markdown",
   "metadata": {},
   "source": [
    "### Designing the dashboard"
   ]
  },
  {
   "cell_type": "markdown",
   "metadata": {},
   "source": [
    "#### Layout"
   ]
  },
  {
   "cell_type": "code",
   "execution_count": 31,
   "metadata": {},
   "outputs": [],
   "source": [
    "app = dash.Dash(__name__,external_stylesheets =[dbc.themes.BOOTSTRAP], suppress_callback_exceptions=True)\n",
    "server = app.server\n",
    "\n",
    "app.layout = html.Div([\n",
    "    html.Div([\n",
    "        dbc.Navbar(\n",
    "            dbc.Row([dbc.Col(dbc.NavbarBrand('INSTACART MARKET BASKET ANALYSIS', className=\"ml-2\"),\n",
    "                style={\"text-align\":\"center\"}),],),\n",
    "            color=\"LightBlue\",\n",
    "            dark=True,\n",
    "            sticky=\"top\",\n",
    "        ),\n",
    "             html.Br()\n",
    "    ]),\n",
    "    dcc.Tabs(id='tabs', value='tabStocks', persistence=False, children=[ \n",
    "        dcc.Tab(label='Consumer Behaviors', value='tabStocks', children=\n",
    "            html.Div([\n",
    "                html.Br([]),\n",
    "                html.Div([\n",
    "                    html.Div([\n",
    "                    dbc.CardHeader(html.H4('Number of orders by Period')),\n",
    "                    dbc.CardBody(\n",
    "                        children =[\n",
    "                        html.Div([html.Label('Choose an option:',style=dict(margin=\"10px\")),\n",
    "                        dcc.RadioItems(id='option',\n",
    "                                       options=[{'label': 'Day of week', 'value': 'Day of week'},\n",
    "                                                {'label': 'Hour of the day', 'value': 'Hour of the day'},],\n",
    "                                       value='Day of week', labelStyle={'display': 'inline-block',})\n",
    "                                 ], style=dict(display='flex', width = \"100%\")),\n",
    "                        dcc.Graph(id='bar_plot', style={\"height\": \"50%\", \"width\": \"100%\"})])\n",
    "                    ],style={\"width\": \"100%\"} ),\n",
    "                    html.Div(id='margin', style={\"width\": \"5%\"}),\n",
    "                    html.Div([\n",
    "                        dbc.CardHeader(html.H4('Days since prior order')),\n",
    "                        html.Br([]),\n",
    "                        html.Br([]),\n",
    "                        html.Div(dcc.Graph(id='prior_orders_plot', figure=fig_bar), style={\"height\": \"50%\", \"width\": \"95%\"}),],\n",
    "                        style={\"width\": \"100%\"})\n",
    "                ],style=dict(display='flex')),\n",
    "                \n",
    "                html.Br([]),\n",
    "                html.Div([\n",
    "                     html.Div([\n",
    "                          dbc.CardHeader(html.H4('Basket Size')),\n",
    "                          dcc.Graph(id='basket_plot',figure=avgbasket_fig, style={ \"width\": \"100%\"}),\n",
    "                          ],style={\"width\": \"100%\"}),\n",
    "                     html.Div(id='margin2', style={\"width\": \"5%\"}),\n",
    "                     html.Div([\n",
    "                          dbc.CardHeader(html.H4('Number of orders by users')),\n",
    "                          html.Div(dcc.Graph(id='num_orders',figure=fig_users), style={\"width\": \"95%\"}),\n",
    "                          ],style={\"width\": \"100%\"} )     \n",
    "                    ], style=dict(display=\"flex\"))\n",
    "            ])),\n",
    "            dcc.Tab(label='Products and Departmens Analysis', value='tabproducts',children=[\n",
    "            html.Br([]),\n",
    "            dbc.CardHeader(html.H4('Products analysis')),\n",
    "            html.Br([]),\n",
    "            html.Div([\n",
    "                html.Div(dcc.Tabs(id='prods', value='prods_distr', persistence=False, children=[ \n",
    "                    dcc.Tab(label='Itens sold by product', value='prods_distr',children=\n",
    "                        dcc.Graph(id='treemap_itens',figure=treemap_figure)),\n",
    "                    dcc.Tab(label='Number of orders by product', value='tabproducts',children=\n",
    "                        dcc.Graph(id='treemap_orders', figure=treemap_prod))]),style={\"width\":\"100%\"}), \n",
    "                html.Div(style={\"width\":\"5%\"}),\n",
    "                html.Div(dcc.Graph(id='reordered_prod', figure=reordered_bar),style={\"width\":\"100%\"})\n",
    "                    ],style=dict(display=\"flex\",width=\"100%\")),\n",
    "            html.Br([]),\n",
    "            html.Hr([]),\n",
    "            html.Div([    \n",
    "                html.Div([\n",
    "                    \n",
    "                        html.Label('Choose a product to analyze:',style=dict(margin=\"10px\") ),\n",
    "                        dcc.Dropdown(options=[{'label': k.capitalize(), 'value': k} for k in products],\n",
    "                         placeholder=\"Select product\",id='dropdownProducts', style=dict(width=\"40%\",verticalAlign=\"middle\")),\n",
    "                        html.Label('Choose an option:',style=dict(margin=\"10px\")),\n",
    "                        dcc.RadioItems(id='option2',\n",
    "                                       options=[{'label': 'Day of week', 'value': 'Day of week'},\n",
    "                                                {'label': 'Hour of the day', 'value': 'Hour of the day'},],\n",
    "                                       value='Day of week', labelStyle={'display': 'inline-block'})\n",
    "                                 ], style=dict(display='flex', width = \"100%\")),\n",
    "                dcc.Graph(id='bar_plot_prod', style={\"height\": \"50%\", \"width\": \"100%\"})]),\n",
    "            html.Hr([]),\n",
    "            html.H4('Association Rules - Lift of complementary products'),\n",
    "            html.Br([]),\n",
    "            dcc.Graph(figure=fig_heatmap, style={\"width\": \"100%\"}),\n",
    "            dbc.CardHeader(html.H4('Departments participation')),\n",
    "            html.Br([]),\n",
    "            html.Div([\n",
    "                      \n",
    "                      html.Div(dcc.Graph(id='pie_graphic', figure=department_fig ),style={\"width\":\"100%\"}),\n",
    "                      html.Div(style={\"width\":\"5%\"}),\n",
    "                      html.Div(dcc.Graph(id='treemap_dept', figure=treemap_dept),style={\"width\":\"100%\"})       \n",
    "                    ],style=dict(display=\"flex\",width=\"100%\")),]),\n",
    "        \n",
    "]),\n",
    "                   \n",
    "                    \n",
    "    ],style=dict(margin='1em'))"
   ]
  },
  {
   "cell_type": "markdown",
   "metadata": {},
   "source": [
    "### Callbacks"
   ]
  },
  {
   "cell_type": "code",
   "execution_count": 32,
   "metadata": {},
   "outputs": [],
   "source": [
    "#Plot Bar Transactions by period\n",
    "@app.callback(Output('bar_plot', 'figure'),\n",
    "            [Input('option', 'value')])\n",
    "def update_barplot(option):\n",
    "    data_bar = (dict(type='bar',\n",
    "                     x=frequent_time(option).index,\n",
    "                     y=frequent_time(option).values,\n",
    "                     marker_color=' cornflowerblue',\n",
    "                     showlegend=False))  \n",
    "    layout_bar = dict(title=dict(\n",
    "                        text=f'Frequency by {option}'),\n",
    "                  xaxis=dict(title=f'{option}'),\n",
    "                  yaxis=dict(title='Number of orders'),\n",
    "                  title_x=0.5)\n",
    "    fig_bar = go.Figure(data=data_bar, layout=layout_bar)\n",
    "    return fig_bar"
   ]
  },
  {
   "cell_type": "code",
   "execution_count": 33,
   "metadata": {},
   "outputs": [],
   "source": [
    "#Plot Bar Transactions by period by product\n",
    "@app.callback(Output('bar_plot_prod', 'figure'),\n",
    "            [Input('dropdownProducts', 'value'),\n",
    "             Input('option2', 'value')])\n",
    "#Create a function with a bar plotly vizualization with the option by user choose 'day of week' or 'hour of the day'\n",
    "#Also chose the product\n",
    "def update_barplot_prod(product, option):\n",
    "    data_bar = (dict(type='bar',\n",
    "                     x=frequent_time_prod(product, option).index,\n",
    "                     y=frequent_time_prod(product, option).values,\n",
    "                     marker_color=' cornflowerblue',\n",
    "                     showlegend=False))  \n",
    "    layout_bar = dict(title=dict(\n",
    "                        text=f'Frequency by {option} - {product}'),\n",
    "                  xaxis=dict(title=f'{option}'),\n",
    "                  yaxis=dict(title='Itens sold'),\n",
    "                  title_x=0.5)\n",
    "    fig_bar_prod = go.Figure(data=data_bar, layout=layout_bar)\n",
    "    return fig_bar_prod\n"
   ]
  },
  {
   "cell_type": "code",
   "execution_count": 34,
   "metadata": {},
   "outputs": [
    {
     "name": "stdout",
     "output_type": "stream",
     "text": [
      "Dash is running on http://127.0.0.1:8050/\n",
      "\n",
      " * Serving Flask app \"__main__\" (lazy loading)\n",
      " * Environment: production\n",
      "   WARNING: This is a development server. Do not use it in a production deployment.\n",
      "   Use a production WSGI server instead.\n",
      " * Debug mode: off\n"
     ]
    },
    {
     "name": "stderr",
     "output_type": "stream",
     "text": [
      " * Running on http://127.0.0.1:8050/ (Press CTRL+C to quit)\n",
      "127.0.0.1 - - [18/Apr/2021 22:15:38] \"\u001b[37mGET / HTTP/1.1\u001b[0m\" 200 -\n",
      "127.0.0.1 - - [18/Apr/2021 22:15:38] \"\u001b[37mGET /_dash-dependencies HTTP/1.1\u001b[0m\" 200 -\n",
      "127.0.0.1 - - [18/Apr/2021 22:15:38] \"\u001b[37mGET /_dash-layout HTTP/1.1\u001b[0m\" 200 -\n",
      "127.0.0.1 - - [18/Apr/2021 22:15:38] \"\u001b[37mPOST /_dash-update-component HTTP/1.1\u001b[0m\" 200 -\n",
      "127.0.0.1 - - [18/Apr/2021 22:15:39] \"\u001b[37mPOST /_dash-update-component HTTP/1.1\u001b[0m\" 200 -\n",
      "127.0.0.1 - - [18/Apr/2021 22:15:51] \"\u001b[37mPOST /_dash-update-component HTTP/1.1\u001b[0m\" 200 -\n"
     ]
    }
   ],
   "source": [
    "if __name__ == '__main__': app.run_server(debug=False)"
   ]
  }
 ],
 "metadata": {
  "kernelspec": {
   "display_name": "Python 3",
   "language": "python",
   "name": "python3"
  },
  "language_info": {
   "codemirror_mode": {
    "name": "ipython",
    "version": 3
   },
   "file_extension": ".py",
   "mimetype": "text/x-python",
   "name": "python",
   "nbconvert_exporter": "python",
   "pygments_lexer": "ipython3",
   "version": "3.8.5"
  },
  "varInspector": {
   "cols": {
    "lenName": 16,
    "lenType": 16,
    "lenVar": 40
   },
   "kernels_config": {
    "python": {
     "delete_cmd_postfix": "",
     "delete_cmd_prefix": "del ",
     "library": "var_list.py",
     "varRefreshCmd": "print(var_dic_list())"
    },
    "r": {
     "delete_cmd_postfix": ") ",
     "delete_cmd_prefix": "rm(",
     "library": "var_list.r",
     "varRefreshCmd": "cat(var_dic_list()) "
    }
   },
   "types_to_exclude": [
    "module",
    "function",
    "builtin_function_or_method",
    "instance",
    "_Feature"
   ],
   "window_display": false
  }
 },
 "nbformat": 4,
 "nbformat_minor": 4
}
