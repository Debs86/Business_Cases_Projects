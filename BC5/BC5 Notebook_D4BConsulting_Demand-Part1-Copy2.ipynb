{
 "cells": [
  {
   "cell_type": "markdown",
   "metadata": {},
   "source": [
    "# Business Case #5 - Retail - Demand Forecasting"
   ]
  },
  {
   "cell_type": "markdown",
   "metadata": {},
   "source": [
    "## Authors:\n",
    "#### Débora Santos (m20200748),Pedro Henrique Medeiros (m20200742), Rebeca Pinheiro (m20201096)\n",
    "\n",
    "#### Group D - D4B Consulting"
   ]
  },
  {
   "cell_type": "code",
   "execution_count": 2,
   "metadata": {},
   "outputs": [],
   "source": [
    "#IMPORT LIBRARIES\n",
    "import sqlite3\n",
    "import os\n",
    "import pandas as pd\n",
    "import numpy as np\n",
    "import matplotlib.pyplot as plt\n",
    "from os.path import join\n",
    "import seaborn as sns\n",
    "from datetime import datetime\n",
    "from itertools import product\n",
    "from math import ceil\n",
    "%matplotlib inline \n",
    "from collections import Counter\n",
    "import matplotlib.cm as cm\n",
    "\n",
    "\n",
    "#Models\n",
    "from sklearn.model_selection import train_test_split\n",
    "#from xgboost import XGBRegressor\n",
    "#from xgboost import plot_importance\n",
    "\n",
    "\n",
    "\n",
    "import warnings\n",
    "warnings.filterwarnings(\"ignore\")\n",
    "\n",
    "# Seeting seaborn style\n",
    "sns.set()"
   ]
  },
  {
   "cell_type": "code",
   "execution_count": 4,
   "metadata": {},
   "outputs": [],
   "source": [
    "#import dataset in csv\n",
    "df = pd.read_csv('df_demand.csv')"
   ]
  },
  {
   "cell_type": "code",
   "execution_count": 5,
   "metadata": {
    "scrolled": true
   },
   "outputs": [
    {
     "data": {
      "text/html": [
       "<div>\n",
       "<style scoped>\n",
       "    .dataframe tbody tr th:only-of-type {\n",
       "        vertical-align: middle;\n",
       "    }\n",
       "\n",
       "    .dataframe tbody tr th {\n",
       "        vertical-align: top;\n",
       "    }\n",
       "\n",
       "    .dataframe thead th {\n",
       "        text-align: right;\n",
       "    }\n",
       "</style>\n",
       "<table border=\"1\" class=\"dataframe\">\n",
       "  <thead>\n",
       "    <tr style=\"text-align: right;\">\n",
       "      <th></th>\n",
       "      <th>ProductName_ID</th>\n",
       "      <th>Point-of-Sale_ID</th>\n",
       "      <th>Date</th>\n",
       "      <th>Quantity</th>\n",
       "    </tr>\n",
       "  </thead>\n",
       "  <tbody>\n",
       "    <tr>\n",
       "      <th>0</th>\n",
       "      <td>ProductName_649</td>\n",
       "      <td>POS_1</td>\n",
       "      <td>2017-03-04</td>\n",
       "      <td>2.0</td>\n",
       "    </tr>\n",
       "    <tr>\n",
       "      <th>1</th>\n",
       "      <td>ProductName_649</td>\n",
       "      <td>POS_1</td>\n",
       "      <td>2016-05-02</td>\n",
       "      <td>4.0</td>\n",
       "    </tr>\n",
       "    <tr>\n",
       "      <th>2</th>\n",
       "      <td>ProductName_649</td>\n",
       "      <td>POS_1</td>\n",
       "      <td>2016-10-24</td>\n",
       "      <td>2.0</td>\n",
       "    </tr>\n",
       "    <tr>\n",
       "      <th>3</th>\n",
       "      <td>ProductName_649</td>\n",
       "      <td>POS_1</td>\n",
       "      <td>2017-10-13</td>\n",
       "      <td>2.0</td>\n",
       "    </tr>\n",
       "    <tr>\n",
       "      <th>4</th>\n",
       "      <td>ProductName_649</td>\n",
       "      <td>POS_1</td>\n",
       "      <td>2017-10-14</td>\n",
       "      <td>2.0</td>\n",
       "    </tr>\n",
       "  </tbody>\n",
       "</table>\n",
       "</div>"
      ],
      "text/plain": [
       "    ProductName_ID Point-of-Sale_ID        Date  Quantity\n",
       "0  ProductName_649            POS_1  2017-03-04       2.0\n",
       "1  ProductName_649            POS_1  2016-05-02       4.0\n",
       "2  ProductName_649            POS_1  2016-10-24       2.0\n",
       "3  ProductName_649            POS_1  2017-10-13       2.0\n",
       "4  ProductName_649            POS_1  2017-10-14       2.0"
      ]
     },
     "execution_count": 5,
     "metadata": {},
     "output_type": "execute_result"
    }
   ],
   "source": [
    "df.head()"
   ]
  },
  {
   "cell_type": "code",
   "execution_count": 6,
   "metadata": {},
   "outputs": [
    {
     "name": "stdout",
     "output_type": "stream",
     "text": [
      "<class 'pandas.core.frame.DataFrame'>\n",
      "RangeIndex: 90748395 entries, 0 to 90748394\n",
      "Data columns (total 4 columns):\n",
      " #   Column            Dtype  \n",
      "---  ------            -----  \n",
      " 0   ProductName_ID    object \n",
      " 1   Point-of-Sale_ID  object \n",
      " 2   Date              object \n",
      " 3   Quantity          float64\n",
      "dtypes: float64(1), object(3)\n",
      "memory usage: 2.7+ GB\n"
     ]
    }
   ],
   "source": [
    "df.info()"
   ]
  },
  {
   "cell_type": "code",
   "execution_count": 7,
   "metadata": {},
   "outputs": [
    {
     "name": "stdout",
     "output_type": "stream",
     "text": [
      "18.7% compressed\n"
     ]
    }
   ],
   "source": [
    "df = downcast1(df)"
   ]
  },
  {
   "cell_type": "markdown",
   "metadata": {},
   "source": [
    "#### Clean data"
   ]
  },
  {
   "cell_type": "code",
   "execution_count": 8,
   "metadata": {},
   "outputs": [],
   "source": [
    "df1 = df.copy()"
   ]
  },
  {
   "cell_type": "markdown",
   "metadata": {},
   "source": [
    "### Feature Engineering"
   ]
  },
  {
   "cell_type": "code",
   "execution_count": 9,
   "metadata": {},
   "outputs": [],
   "source": [
    "df1['Date'] = df1['Date'].astype('datetime64[ns]')"
   ]
  },
  {
   "cell_type": "code",
   "execution_count": 10,
   "metadata": {},
   "outputs": [],
   "source": [
    "df1['WeekofYear'] = df1.Date.dt.weekofyear.astype(str)"
   ]
  },
  {
   "cell_type": "code",
   "execution_count": 11,
   "metadata": {},
   "outputs": [],
   "source": [
    "df1['Year'] = df1.Date.dt.year.astype(str)"
   ]
  },
  {
   "cell_type": "code",
   "execution_count": 12,
   "metadata": {},
   "outputs": [],
   "source": [
    "df1['Year_Week']= df1['Year'] + df1['WeekofYear'] "
   ]
  },
  {
   "cell_type": "code",
   "execution_count": 13,
   "metadata": {},
   "outputs": [],
   "source": [
    "df1['Year_Week']= df1['Year_Week'].astype(int)"
   ]
  },
  {
   "cell_type": "code",
   "execution_count": 14,
   "metadata": {},
   "outputs": [
    {
     "name": "stdout",
     "output_type": "stream",
     "text": [
      "<class 'pandas.core.frame.DataFrame'>\n",
      "RangeIndex: 90748395 entries, 0 to 90748394\n",
      "Data columns (total 7 columns):\n",
      " #   Column            Dtype         \n",
      "---  ------            -----         \n",
      " 0   ProductName_ID    object        \n",
      " 1   Point-of-Sale_ID  object        \n",
      " 2   Date              datetime64[ns]\n",
      " 3   Quantity          int16         \n",
      " 4   WeekofYear        object        \n",
      " 5   Year              object        \n",
      " 6   Year_Week         int32         \n",
      "dtypes: datetime64[ns](1), int16(1), int32(1), object(4)\n",
      "memory usage: 3.9+ GB\n"
     ]
    }
   ],
   "source": [
    "df1.info()"
   ]
  },
  {
   "cell_type": "code",
   "execution_count": 15,
   "metadata": {},
   "outputs": [],
   "source": [
    "df1.drop(['Date'], axis=1, inplace=True)"
   ]
  },
  {
   "cell_type": "code",
   "execution_count": 16,
   "metadata": {},
   "outputs": [
    {
     "data": {
      "text/html": [
       "<div>\n",
       "<style scoped>\n",
       "    .dataframe tbody tr th:only-of-type {\n",
       "        vertical-align: middle;\n",
       "    }\n",
       "\n",
       "    .dataframe tbody tr th {\n",
       "        vertical-align: top;\n",
       "    }\n",
       "\n",
       "    .dataframe thead th {\n",
       "        text-align: right;\n",
       "    }\n",
       "</style>\n",
       "<table border=\"1\" class=\"dataframe\">\n",
       "  <thead>\n",
       "    <tr style=\"text-align: right;\">\n",
       "      <th></th>\n",
       "      <th>ProductName_ID</th>\n",
       "      <th>Point-of-Sale_ID</th>\n",
       "      <th>Quantity</th>\n",
       "      <th>WeekofYear</th>\n",
       "      <th>Year</th>\n",
       "      <th>Year_Week</th>\n",
       "    </tr>\n",
       "  </thead>\n",
       "  <tbody>\n",
       "    <tr>\n",
       "      <th>0</th>\n",
       "      <td>ProductName_649</td>\n",
       "      <td>POS_1</td>\n",
       "      <td>2</td>\n",
       "      <td>9</td>\n",
       "      <td>2017</td>\n",
       "      <td>20179</td>\n",
       "    </tr>\n",
       "    <tr>\n",
       "      <th>1</th>\n",
       "      <td>ProductName_649</td>\n",
       "      <td>POS_1</td>\n",
       "      <td>4</td>\n",
       "      <td>18</td>\n",
       "      <td>2016</td>\n",
       "      <td>201618</td>\n",
       "    </tr>\n",
       "    <tr>\n",
       "      <th>2</th>\n",
       "      <td>ProductName_649</td>\n",
       "      <td>POS_1</td>\n",
       "      <td>2</td>\n",
       "      <td>43</td>\n",
       "      <td>2016</td>\n",
       "      <td>201643</td>\n",
       "    </tr>\n",
       "    <tr>\n",
       "      <th>3</th>\n",
       "      <td>ProductName_649</td>\n",
       "      <td>POS_1</td>\n",
       "      <td>2</td>\n",
       "      <td>41</td>\n",
       "      <td>2017</td>\n",
       "      <td>201741</td>\n",
       "    </tr>\n",
       "    <tr>\n",
       "      <th>4</th>\n",
       "      <td>ProductName_649</td>\n",
       "      <td>POS_1</td>\n",
       "      <td>2</td>\n",
       "      <td>41</td>\n",
       "      <td>2017</td>\n",
       "      <td>201741</td>\n",
       "    </tr>\n",
       "  </tbody>\n",
       "</table>\n",
       "</div>"
      ],
      "text/plain": [
       "    ProductName_ID Point-of-Sale_ID  Quantity WeekofYear  Year  Year_Week\n",
       "0  ProductName_649            POS_1         2          9  2017      20179\n",
       "1  ProductName_649            POS_1         4         18  2016     201618\n",
       "2  ProductName_649            POS_1         2         43  2016     201643\n",
       "3  ProductName_649            POS_1         2         41  2017     201741\n",
       "4  ProductName_649            POS_1         2         41  2017     201741"
      ]
     },
     "execution_count": 16,
     "metadata": {},
     "output_type": "execute_result"
    }
   ],
   "source": [
    "df1.head()"
   ]
  },
  {
   "cell_type": "code",
   "execution_count": 17,
   "metadata": {},
   "outputs": [
    {
     "name": "stdout",
     "output_type": "stream",
     "text": [
      "<class 'pandas.core.frame.DataFrame'>\n",
      "RangeIndex: 90748395 entries, 0 to 90748394\n",
      "Data columns (total 6 columns):\n",
      " #   Column            Dtype \n",
      "---  ------            ----- \n",
      " 0   ProductName_ID    object\n",
      " 1   Point-of-Sale_ID  object\n",
      " 2   Quantity          int16 \n",
      " 3   WeekofYear        object\n",
      " 4   Year              object\n",
      " 5   Year_Week         int32 \n",
      "dtypes: int16(1), int32(1), object(4)\n",
      "memory usage: 3.2+ GB\n"
     ]
    }
   ],
   "source": [
    "df1.info()"
   ]
  },
  {
   "cell_type": "code",
   "execution_count": 18,
   "metadata": {},
   "outputs": [],
   "source": [
    "df_group = pd.DataFrame(df1.groupby(['Year_Week','Year', 'WeekofYear','ProductName_ID','Point-of-Sale_ID'])['Quantity'].sum())"
   ]
  },
  {
   "cell_type": "code",
   "execution_count": 19,
   "metadata": {},
   "outputs": [],
   "source": [
    "df_group.reset_index(inplace = True)"
   ]
  },
  {
   "cell_type": "code",
   "execution_count": 20,
   "metadata": {},
   "outputs": [],
   "source": [
    "df_group[['Position','Store_ID']] =(df_group['Point-of-Sale_ID']).str.split(\"_\",expand = True)"
   ]
  },
  {
   "cell_type": "code",
   "execution_count": 21,
   "metadata": {},
   "outputs": [
    {
     "data": {
      "text/html": [
       "<div>\n",
       "<style scoped>\n",
       "    .dataframe tbody tr th:only-of-type {\n",
       "        vertical-align: middle;\n",
       "    }\n",
       "\n",
       "    .dataframe tbody tr th {\n",
       "        vertical-align: top;\n",
       "    }\n",
       "\n",
       "    .dataframe thead th {\n",
       "        text-align: right;\n",
       "    }\n",
       "</style>\n",
       "<table border=\"1\" class=\"dataframe\">\n",
       "  <thead>\n",
       "    <tr style=\"text-align: right;\">\n",
       "      <th></th>\n",
       "      <th>Year_Week</th>\n",
       "      <th>Year</th>\n",
       "      <th>WeekofYear</th>\n",
       "      <th>ProductName_ID</th>\n",
       "      <th>Quantity</th>\n",
       "      <th>Store_ID</th>\n",
       "    </tr>\n",
       "  </thead>\n",
       "  <tbody>\n",
       "    <tr>\n",
       "      <th>0</th>\n",
       "      <td>20161</td>\n",
       "      <td>2016</td>\n",
       "      <td>1</td>\n",
       "      <td>ProductName_1000</td>\n",
       "      <td>5</td>\n",
       "      <td>100</td>\n",
       "    </tr>\n",
       "    <tr>\n",
       "      <th>1</th>\n",
       "      <td>20161</td>\n",
       "      <td>2016</td>\n",
       "      <td>1</td>\n",
       "      <td>ProductName_1000</td>\n",
       "      <td>2</td>\n",
       "      <td>102</td>\n",
       "    </tr>\n",
       "    <tr>\n",
       "      <th>2</th>\n",
       "      <td>20161</td>\n",
       "      <td>2016</td>\n",
       "      <td>1</td>\n",
       "      <td>ProductName_1000</td>\n",
       "      <td>9</td>\n",
       "      <td>103</td>\n",
       "    </tr>\n",
       "    <tr>\n",
       "      <th>3</th>\n",
       "      <td>20161</td>\n",
       "      <td>2016</td>\n",
       "      <td>1</td>\n",
       "      <td>ProductName_1000</td>\n",
       "      <td>7</td>\n",
       "      <td>104</td>\n",
       "    </tr>\n",
       "    <tr>\n",
       "      <th>4</th>\n",
       "      <td>20161</td>\n",
       "      <td>2016</td>\n",
       "      <td>1</td>\n",
       "      <td>ProductName_1000</td>\n",
       "      <td>3</td>\n",
       "      <td>106</td>\n",
       "    </tr>\n",
       "  </tbody>\n",
       "</table>\n",
       "</div>"
      ],
      "text/plain": [
       "   Year_Week  Year WeekofYear    ProductName_ID  Quantity Store_ID\n",
       "0      20161  2016          1  ProductName_1000         5      100\n",
       "1      20161  2016          1  ProductName_1000         2      102\n",
       "2      20161  2016          1  ProductName_1000         9      103\n",
       "3      20161  2016          1  ProductName_1000         7      104\n",
       "4      20161  2016          1  ProductName_1000         3      106"
      ]
     },
     "execution_count": 21,
     "metadata": {},
     "output_type": "execute_result"
    }
   ],
   "source": [
    "df_group.drop(['Point-of-Sale_ID','Position'], axis=1, inplace=True)\n",
    "df_group.head()"
   ]
  },
  {
   "cell_type": "code",
   "execution_count": 22,
   "metadata": {},
   "outputs": [],
   "source": [
    "df_group[['Product','Product_ID']] =(df_group['ProductName_ID']).str.split(\"_\",expand = True)"
   ]
  },
  {
   "cell_type": "code",
   "execution_count": 23,
   "metadata": {},
   "outputs": [
    {
     "data": {
      "text/html": [
       "<div>\n",
       "<style scoped>\n",
       "    .dataframe tbody tr th:only-of-type {\n",
       "        vertical-align: middle;\n",
       "    }\n",
       "\n",
       "    .dataframe tbody tr th {\n",
       "        vertical-align: top;\n",
       "    }\n",
       "\n",
       "    .dataframe thead th {\n",
       "        text-align: right;\n",
       "    }\n",
       "</style>\n",
       "<table border=\"1\" class=\"dataframe\">\n",
       "  <thead>\n",
       "    <tr style=\"text-align: right;\">\n",
       "      <th></th>\n",
       "      <th>Year_Week</th>\n",
       "      <th>Year</th>\n",
       "      <th>WeekofYear</th>\n",
       "      <th>Quantity</th>\n",
       "      <th>Store_ID</th>\n",
       "      <th>Product_ID</th>\n",
       "    </tr>\n",
       "  </thead>\n",
       "  <tbody>\n",
       "    <tr>\n",
       "      <th>0</th>\n",
       "      <td>20161</td>\n",
       "      <td>2016</td>\n",
       "      <td>1</td>\n",
       "      <td>5</td>\n",
       "      <td>100</td>\n",
       "      <td>1000</td>\n",
       "    </tr>\n",
       "    <tr>\n",
       "      <th>1</th>\n",
       "      <td>20161</td>\n",
       "      <td>2016</td>\n",
       "      <td>1</td>\n",
       "      <td>2</td>\n",
       "      <td>102</td>\n",
       "      <td>1000</td>\n",
       "    </tr>\n",
       "    <tr>\n",
       "      <th>2</th>\n",
       "      <td>20161</td>\n",
       "      <td>2016</td>\n",
       "      <td>1</td>\n",
       "      <td>9</td>\n",
       "      <td>103</td>\n",
       "      <td>1000</td>\n",
       "    </tr>\n",
       "    <tr>\n",
       "      <th>3</th>\n",
       "      <td>20161</td>\n",
       "      <td>2016</td>\n",
       "      <td>1</td>\n",
       "      <td>7</td>\n",
       "      <td>104</td>\n",
       "      <td>1000</td>\n",
       "    </tr>\n",
       "    <tr>\n",
       "      <th>4</th>\n",
       "      <td>20161</td>\n",
       "      <td>2016</td>\n",
       "      <td>1</td>\n",
       "      <td>3</td>\n",
       "      <td>106</td>\n",
       "      <td>1000</td>\n",
       "    </tr>\n",
       "  </tbody>\n",
       "</table>\n",
       "</div>"
      ],
      "text/plain": [
       "   Year_Week  Year WeekofYear  Quantity Store_ID Product_ID\n",
       "0      20161  2016          1         5      100       1000\n",
       "1      20161  2016          1         2      102       1000\n",
       "2      20161  2016          1         9      103       1000\n",
       "3      20161  2016          1         7      104       1000\n",
       "4      20161  2016          1         3      106       1000"
      ]
     },
     "execution_count": 23,
     "metadata": {},
     "output_type": "execute_result"
    }
   ],
   "source": [
    "df_group.drop(['ProductName_ID','Product'], axis=1, inplace=True)\n",
    "df_group.head()"
   ]
  },
  {
   "cell_type": "code",
   "execution_count": 24,
   "metadata": {},
   "outputs": [
    {
     "name": "stdout",
     "output_type": "stream",
     "text": [
      "<class 'pandas.core.frame.DataFrame'>\n",
      "RangeIndex: 29318460 entries, 0 to 29318459\n",
      "Data columns (total 6 columns):\n",
      " #   Column      Dtype \n",
      "---  ------      ----- \n",
      " 0   Year_Week   int64 \n",
      " 1   Year        object\n",
      " 2   WeekofYear  object\n",
      " 3   Quantity    int16 \n",
      " 4   Store_ID    object\n",
      " 5   Product_ID  object\n",
      "dtypes: int16(1), int64(1), object(4)\n",
      "memory usage: 1.1+ GB\n"
     ]
    }
   ],
   "source": [
    "df_group.info()"
   ]
  },
  {
   "cell_type": "code",
   "execution_count": 25,
   "metadata": {
    "scrolled": true
   },
   "outputs": [
    {
     "name": "stdout",
     "output_type": "stream",
     "text": [
      "9.5% compressed\n"
     ]
    }
   ],
   "source": [
    "df_group = downcast1(df_group)"
   ]
  },
  {
   "cell_type": "code",
   "execution_count": 28,
   "metadata": {},
   "outputs": [],
   "source": [
    "df_group.to_csv('df_group_exported.csv')"
   ]
  },
  {
   "cell_type": "code",
   "execution_count": 26,
   "metadata": {},
   "outputs": [],
   "source": [
    "lista = list(set(df_group['Year_Week']))"
   ]
  },
  {
   "cell_type": "code",
   "execution_count": 27,
   "metadata": {},
   "outputs": [
    {
     "ename": "MemoryError",
     "evalue": "Unable to allocate 14.8 GiB for an array with shape (120361747, 3) and data type <U11",
     "output_type": "error",
     "traceback": [
      "\u001b[1;31m---------------------------------------------------------------------------\u001b[0m",
      "\u001b[1;31mMemoryError\u001b[0m                               Traceback (most recent call last)",
      "\u001b[1;32m<ipython-input-27-f63a98c579e7>\u001b[0m in \u001b[0;36m<module>\u001b[1;34m\u001b[0m\n\u001b[0;32m     15\u001b[0m \u001b[0mindex_feats\u001b[0m \u001b[1;33m=\u001b[0m \u001b[1;33m[\u001b[0m\u001b[1;34m\"Year_Week\"\u001b[0m\u001b[1;33m,\u001b[0m \u001b[1;34m\"Store_ID\"\u001b[0m\u001b[1;33m,\u001b[0m \u001b[1;34m\"Product_ID\"\u001b[0m\u001b[1;33m]\u001b[0m\u001b[1;33m\u001b[0m\u001b[1;33m\u001b[0m\u001b[0m\n\u001b[0;32m     16\u001b[0m \u001b[1;33m\u001b[0m\u001b[0m\n\u001b[1;32m---> 17\u001b[1;33m \u001b[0mtrain\u001b[0m \u001b[1;33m=\u001b[0m \u001b[0mpd\u001b[0m\u001b[1;33m.\u001b[0m\u001b[0mDataFrame\u001b[0m\u001b[1;33m(\u001b[0m\u001b[0mnp\u001b[0m\u001b[1;33m.\u001b[0m\u001b[0mvstack\u001b[0m\u001b[1;33m(\u001b[0m\u001b[0mtrain\u001b[0m\u001b[1;33m)\u001b[0m\u001b[1;33m,\u001b[0m \u001b[0mcolumns\u001b[0m\u001b[1;33m=\u001b[0m\u001b[0mindex_feats\u001b[0m\u001b[1;33m)\u001b[0m\u001b[1;33m\u001b[0m\u001b[1;33m\u001b[0m\u001b[0m\n\u001b[0m",
      "\u001b[1;32m<__array_function__ internals>\u001b[0m in \u001b[0;36mvstack\u001b[1;34m(*args, **kwargs)\u001b[0m\n",
      "\u001b[1;32m~\\anaconda3\\lib\\site-packages\\numpy\\core\\shape_base.py\u001b[0m in \u001b[0;36mvstack\u001b[1;34m(tup)\u001b[0m\n\u001b[0;32m    281\u001b[0m     \u001b[1;32mif\u001b[0m \u001b[1;32mnot\u001b[0m \u001b[0misinstance\u001b[0m\u001b[1;33m(\u001b[0m\u001b[0marrs\u001b[0m\u001b[1;33m,\u001b[0m \u001b[0mlist\u001b[0m\u001b[1;33m)\u001b[0m\u001b[1;33m:\u001b[0m\u001b[1;33m\u001b[0m\u001b[1;33m\u001b[0m\u001b[0m\n\u001b[0;32m    282\u001b[0m         \u001b[0marrs\u001b[0m \u001b[1;33m=\u001b[0m \u001b[1;33m[\u001b[0m\u001b[0marrs\u001b[0m\u001b[1;33m]\u001b[0m\u001b[1;33m\u001b[0m\u001b[1;33m\u001b[0m\u001b[0m\n\u001b[1;32m--> 283\u001b[1;33m     \u001b[1;32mreturn\u001b[0m \u001b[0m_nx\u001b[0m\u001b[1;33m.\u001b[0m\u001b[0mconcatenate\u001b[0m\u001b[1;33m(\u001b[0m\u001b[0marrs\u001b[0m\u001b[1;33m,\u001b[0m \u001b[1;36m0\u001b[0m\u001b[1;33m)\u001b[0m\u001b[1;33m\u001b[0m\u001b[1;33m\u001b[0m\u001b[0m\n\u001b[0m\u001b[0;32m    284\u001b[0m \u001b[1;33m\u001b[0m\u001b[0m\n\u001b[0;32m    285\u001b[0m \u001b[1;33m\u001b[0m\u001b[0m\n",
      "\u001b[1;32m<__array_function__ internals>\u001b[0m in \u001b[0;36mconcatenate\u001b[1;34m(*args, **kwargs)\u001b[0m\n",
      "\u001b[1;31mMemoryError\u001b[0m: Unable to allocate 14.8 GiB for an array with shape (120361747, 3) and data type <U11"
     ]
    }
   ],
   "source": [
    "# Create a dataframe of the Cartesian Product of the unique stores and unique products for each week\n",
    "\n",
    "from itertools import product\n",
    "\n",
    "train = []\n",
    "\n",
    "for i in lista:\n",
    "    \n",
    "    stores = df_group.loc[df_group[\"Year_Week\"] == i, \"Store_ID\"].unique()\n",
    "    \n",
    "    products = df_group.loc[df_group[\"Year_Week\"] == i, \"Product_ID\"].unique()\n",
    "    \n",
    "    train.append(np.array(list(product(*[[i],stores, products]))))\n",
    "    \n",
    "index_feats = [\"Year_Week\", \"Store_ID\", \"Product_ID\"]\n",
    "\n",
    "train = pd.DataFrame(np.vstack(train), columns=index_feats)"
   ]
  },
  {
   "cell_type": "code",
   "execution_count": null,
   "metadata": {},
   "outputs": [],
   "source": [
    "# Create the column showing how many of each product have been sold in each week\n",
    "\n",
    "group = df_group.groupby(index_feats).agg({\"Quantity\": \"sum\"})\n",
    "group = group.reset_index()\n",
    "\n",
    "train = pd.merge(train, group, on=index_feats, how=\"left\")\n",
    "train"
   ]
  },
  {
   "cell_type": "code",
   "execution_count": null,
   "metadata": {},
   "outputs": [],
   "source": [
    "# Use garbage collection to minimise memory usage\n",
    "\n",
    "import gc\n",
    "\n",
    "del group\n",
    "\n",
    "gc.collect()"
   ]
  },
  {
   "cell_type": "code",
   "execution_count": null,
   "metadata": {},
   "outputs": [],
   "source": [
    "train = train.fillna(0)"
   ]
  },
  {
   "cell_type": "code",
   "execution_count": null,
   "metadata": {},
   "outputs": [],
   "source": [
    "train.head()"
   ]
  },
  {
   "cell_type": "code",
   "execution_count": null,
   "metadata": {},
   "outputs": [],
   "source": [
    "test = train[train['Year_Week']>=201938]"
   ]
  },
  {
   "cell_type": "code",
   "execution_count": null,
   "metadata": {},
   "outputs": [],
   "source": [
    "train = train[train['Year_Week']<201938]"
   ]
  },
  {
   "cell_type": "code",
   "execution_count": null,
   "metadata": {},
   "outputs": [],
   "source": [
    "test.head()"
   ]
  },
  {
   "cell_type": "code",
   "execution_count": null,
   "metadata": {},
   "outputs": [],
   "source": [
    "test2 = test.drop('Quantity',axis = 1)\n",
    "test2"
   ]
  },
  {
   "cell_type": "code",
   "execution_count": null,
   "metadata": {},
   "outputs": [],
   "source": [
    "df_concat = pd.concat([train, test2], ignore_index=True, keys=index_feats)"
   ]
  },
  {
   "cell_type": "code",
   "execution_count": null,
   "metadata": {},
   "outputs": [],
   "source": [
    "df_concat.head()"
   ]
  },
  {
   "cell_type": "code",
   "execution_count": null,
   "metadata": {},
   "outputs": [],
   "source": [
    "df_concat[df_concat['Year_Week']==201938]"
   ]
  },
  {
   "cell_type": "code",
   "execution_count": null,
   "metadata": {},
   "outputs": [],
   "source": [
    "df_forecast = df_concat.fillna(0)\n",
    "df_forecast.head()"
   ]
  },
  {
   "cell_type": "code",
   "execution_count": null,
   "metadata": {},
   "outputs": [],
   "source": [
    "df_forecast = downcast1(df_forecast)"
   ]
  },
  {
   "cell_type": "code",
   "execution_count": null,
   "metadata": {},
   "outputs": [],
   "source": [
    "def add_mean_feats(df, mean_feats, index_features, agg_col=\"Quantity\", agg_func=\"mean\"):\n",
    "    \n",
    "    \"\"\"\n",
    "    Function to automatically create new features showing the mean of quantity grouped by the specified columns.\n",
    "    \"\"\"\n",
    "    \n",
    "    if len(index_features) == 2:\n",
    "        feature_name = index_features[1] + f\"_{agg_col}_{agg_func}\"\n",
    "    else: \n",
    "        feature_name = index_features[1] + \"_\" + index_features[2] + f\"_{agg_col}_{agg_func}\"\n",
    "        \n",
    "    group = df.groupby(index_features).agg({agg_col:agg_func}).reset_index().rename(columns={agg_col:feature_name})\n",
    "    \n",
    "    df = pd.merge(df, group, on=index_features, how=\"left\")\n",
    "    \n",
    "    df = downcast1(df)\n",
    "    \n",
    "    mean_feats.append(feature_name)\n",
    "    \n",
    "    del group\n",
    "    gc.collect()\n",
    "    \n",
    "    return df, mean_feats"
   ]
  },
  {
   "cell_type": "code",
   "execution_count": null,
   "metadata": {},
   "outputs": [],
   "source": [
    "prod_mean_features = []\n",
    "\n",
    "df_forecast, prod_mean_features = add_mean_feats(df_forecast, prod_mean_features, [\"Year_Week\",\"Product_ID\"])\n",
    "\n",
    "df_forecast"
   ]
  },
  {
   "cell_type": "code",
   "execution_count": null,
   "metadata": {},
   "outputs": [],
   "source": [
    "df_forecast, prod_mean_features = add_mean_feats(df_forecast, prod_mean_features, [\"Year_Week\",\"Product_ID\", 'Store_ID'])\n",
    "\n",
    "df_forecast"
   ]
  },
  {
   "cell_type": "code",
   "execution_count": null,
   "metadata": {},
   "outputs": [],
   "source": [
    "store_mean_features = []\n",
    "df_forecast, store_mean_features = add_mean_feats(df_forecast, store_mean_features, [\"Year_Week\", 'Store_ID'])\n",
    "\n",
    "df_forecast"
   ]
  },
  {
   "cell_type": "code",
   "execution_count": null,
   "metadata": {},
   "outputs": [],
   "source": [
    "def add_lags(df, lag_features, index_features, lag_feature, lags=[1,2,3], clip=False):\n",
    "    \n",
    "    \"\"\"\n",
    "    Function to automatically create lag features based on the columns specified.\n",
    "    \"\"\"\n",
    "    \n",
    "    df_temp = df[index_features + [lag_feature]].copy()\n",
    "    \n",
    "    for i in lags:\n",
    "        \n",
    "        feat_name = lag_feature + \"_lag\" + str(i)\n",
    "        df_temp.columns = index_features + [feat_name]\n",
    "        df_temp[\"Year_Week\"] += i\n",
    "        df = pd.merge(df, df_temp.drop_duplicates(), on=index_features, how=\"left\")\n",
    "        df[feat_name] = df[feat_name].fillna(0)\n",
    "        \n",
    "        if clip:\n",
    "            lag_feats_to_clip.append(feat_name)\n",
    "            \n",
    "    df = downcast1(df)\n",
    "    del df_temp\n",
    "    gc.collect()\n",
    "    \n",
    "    return df, lag_feats_to_clip"
   ]
  },
  {
   "cell_type": "code",
   "execution_count": null,
   "metadata": {},
   "outputs": [],
   "source": [
    "lag_feats_to_clip = []\n",
    "index_features = [\"Year_Week\", 'Store_ID', \"Product_ID\"]\n",
    "\n",
    "df_forecast, lag_feats_to_clip = add_lags(df_forecast, lag_feats_to_clip, index_features, \"Quantity\", clip=True)"
   ]
  },
  {
   "cell_type": "code",
   "execution_count": null,
   "metadata": {
    "scrolled": true
   },
   "outputs": [],
   "source": [
    "df_forecast.head()"
   ]
  },
  {
   "cell_type": "code",
   "execution_count": null,
   "metadata": {},
   "outputs": [],
   "source": [
    "# Now use the lists that have saved previously in creating the mean features to create additional lags\n",
    "\n",
    "for item in prod_mean_features:\n",
    "    \n",
    "    df_forecast, lag_feats_to_clip = add_lags(df_forecast, lag_feats_to_clip, index_features, item, clip=True)"
   ]
  },
  {
   "cell_type": "code",
   "execution_count": null,
   "metadata": {},
   "outputs": [],
   "source": [
    "for item in store_mean_features:\n",
    "    \n",
    "    df_forecast, lag_feats_to_clip = add_lags(df_forecast, lag_feats_to_clip, index_features, item, clip=True)"
   ]
  },
  {
   "cell_type": "code",
   "execution_count": null,
   "metadata": {
    "scrolled": true
   },
   "outputs": [],
   "source": [
    "df_forecast"
   ]
  },
  {
   "cell_type": "code",
   "execution_count": null,
   "metadata": {},
   "outputs": [],
   "source": [
    "# Create feature showing mean of the three lags\n",
    "\n",
    "df_forecast[\"Quantity_lag3_mean\"] = df_forecast[[\"Quantity_lag1\", \"Quantity_lag2\", \"Quantity_lag3\"]].mean(axis=1)"
   ]
  },
  {
   "cell_type": "code",
   "execution_count": null,
   "metadata": {},
   "outputs": [],
   "source": [
    "df_forecast[lag_feats_to_clip + [\"Quantity_lag3_mean\", \"Quantity\"]] =  df_forecast[lag_feats_to_clip + [\"Quantity_lag3_mean\", \"Quantity\"]].clip(0,20)"
   ]
  },
  {
   "cell_type": "code",
   "execution_count": null,
   "metadata": {},
   "outputs": [],
   "source": [
    "df_forecast[\"lag_grad_1\"] = df_forecast[\"Quantity_lag1\"] / df_forecast[\"Quantity_lag2\"]\n",
    "df_forecast[\"lag_grad_1\"] = df_forecast[\"lag_grad_1\"].replace([np.inf, -np.inf], np.nan).fillna(0)"
   ]
  },
  {
   "cell_type": "code",
   "execution_count": null,
   "metadata": {},
   "outputs": [],
   "source": [
    "df_forecast[\"lag_grad_2\"] = df_forecast[\"Quantity_lag2\"] / df_forecast[\"Quantity_lag3\"]\n",
    "df_forecast[\"lag_grad_2\"] = df_forecast[\"lag_grad_2\"].replace([np.inf, -np.inf], np.nan).fillna(0)"
   ]
  },
  {
   "cell_type": "code",
   "execution_count": null,
   "metadata": {},
   "outputs": [],
   "source": [
    "df_forecast = downcast1(df_forecast)\n",
    "df_forecast.info()"
   ]
  },
  {
   "cell_type": "code",
   "execution_count": null,
   "metadata": {},
   "outputs": [],
   "source": [
    "df_forecast.to_csv(os.path.join(\"df_demand_complete.csv\"), index=False)"
   ]
  },
  {
   "cell_type": "code",
   "execution_count": null,
   "metadata": {},
   "outputs": [],
   "source": [
    "test.to_csv(os.path.join(\"teste.csv\"), index=False)"
   ]
  },
  {
   "cell_type": "code",
   "execution_count": null,
   "metadata": {},
   "outputs": [],
   "source": []
  }
 ],
 "metadata": {
  "kernelspec": {
   "display_name": "Python 3",
   "language": "python",
   "name": "python3"
  },
  "language_info": {
   "codemirror_mode": {
    "name": "ipython",
    "version": 3
   },
   "file_extension": ".py",
   "mimetype": "text/x-python",
   "name": "python",
   "nbconvert_exporter": "python",
   "pygments_lexer": "ipython3",
   "version": "3.8.3"
  }
 },
 "nbformat": 4,
 "nbformat_minor": 4
}
